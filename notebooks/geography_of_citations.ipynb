{
 "cells": [
  {
   "cell_type": "markdown",
   "metadata": {
    "id": "wRRxqP1VPGBV"
   },
   "source": [
    "### Required User Inputs"
   ]
  },
  {
   "cell_type": "code",
   "execution_count": 1,
   "metadata": {
    "id": "p0Tg8HyCqweW",
    "outputId": "93430323-d69c-44fc-cb4a-94a516c37b29",
    "scrolled": false
   },
   "outputs": [],
   "source": [
    "# Imports\n",
    "import arcpy\n",
    "import pandas as pd\n",
    "\n",
    "# Environment settings\n",
    "arcpy.env.workspace = 'E:/My Drive/ADHUS_FAU/fauhsresearch/student_output/citations/data/fauhs_citations.gdb'\n",
    "arcpy.env.overwriteOutput = True\n",
    "\n",
    "# Required inputs\n",
    "path = 'E:/My Drive/ADHUS_FAU/fauhsresearch/student_output/citations/data'\n",
    "workbook = '/inputs/Geography of Citations.xlsx'"
   ]
  },
  {
   "cell_type": "markdown",
   "metadata": {
    "id": "wRRxqP1VPGBV"
   },
   "source": [
    "### Data Wrangling of \"Geography of Citations\" Spreadsheet"
   ]
  },
  {
   "cell_type": "code",
   "execution_count": 2,
   "metadata": {
    "colab": {
     "base_uri": "https://localhost:8080/",
     "height": 572
    },
    "executionInfo": {
     "elapsed": 1319,
     "status": "ok",
     "timestamp": 1650314752287,
     "user": {
      "displayName": "Tucker Hindle",
      "userId": "07210382577210950151"
     },
     "user_tz": 240
    },
    "id": "szClD-K6HPa6",
    "outputId": "df431062-e994-4589-fd21-63b9b6ccb7b4",
    "scrolled": false
   },
   "outputs": [
    {
     "name": "stdout",
     "output_type": "stream",
     "text": [
      "1540 rows by 32 columns\n"
     ]
    }
   ],
   "source": [
    "# Get all worksheets as dict of dfs\n",
    "workbook_dict = pd.read_excel(f'{path}{workbook}', sheet_name=None)\n",
    "\n",
    "# Consolidate into a single DataFrame\n",
    "df = pd.concat(workbook_dict, ignore_index=True) \n",
    "\n",
    "print(f'{df.shape[0]} rows by {df.shape[1]} columns')\n",
    "#df.head()"
   ]
  },
  {
   "cell_type": "code",
   "execution_count": 3,
   "metadata": {},
   "outputs": [
    {
     "name": "stdout",
     "output_type": "stream",
     "text": [
      "1540 rows by 34 columns\n"
     ]
    }
   ],
   "source": [
    "# Add columns that uniquely represent the location of each citation\n",
    "df['STATE_CITING_PAPER'] = df['CITED_BY_STATE'] + ', ' + df['CITED_BY_TITLE']\n",
    "df['COUNTRY_CITING_PAPER'] = df['CITED_BY_COUNTRY'] + ', ' + df['CITED_BY_TITLE']\n",
    "\n",
    "print(f'{df.shape[0]} rows by {df.shape[1]} columns')\n",
    "#df.head()"
   ]
  },
  {
   "cell_type": "code",
   "execution_count": 4,
   "metadata": {},
   "outputs": [
    {
     "name": "stdout",
     "output_type": "stream",
     "text": [
      "Inside USA: 810 records\n",
      "Outside USA: 730 records\n"
     ]
    }
   ],
   "source": [
    "# Split the df to places inside and outside USA\n",
    "usa_df = df.loc[df['CITED_BY_COUNTRY'] == 'United States']\n",
    "world_df = df.loc[df['CITED_BY_COUNTRY'] != 'United States']\n",
    "\n",
    "print(f'Inside USA: {usa_df.shape[0]} records\\nOutside USA: {world_df.shape[0]} records')"
   ]
  },
  {
   "cell_type": "code",
   "execution_count": 5,
   "metadata": {},
   "outputs": [
    {
     "name": "stdout",
     "output_type": "stream",
     "text": [
      "Inside USA: 790 records after duplicates removed \n",
      "Outside USA: 580 records after duplicates removed\n"
     ]
    }
   ],
   "source": [
    "# Remove double counting where same citing paper has same location multiple times\n",
    "usa_df = usa_df.drop_duplicates(['STATE_CITING_PAPER'])\n",
    "world_df = world_df.drop_duplicates(['COUNTRY_CITING_PAPER'])\n",
    "\n",
    "print(f'Inside USA: {usa_df.shape[0]} records after duplicates removed \\\n",
    "\\nOutside USA: {world_df.shape[0]} records after duplicates removed')"
   ]
  },
  {
   "cell_type": "code",
   "execution_count": 6,
   "metadata": {},
   "outputs": [
    {
     "name": "stdout",
     "output_type": "stream",
     "text": [
      "1370 rows by 34 columns\n"
     ]
    },
    {
     "data": {
      "text/html": [
       "<div>\n",
       "<style scoped>\n",
       "    .dataframe tbody tr th:only-of-type {\n",
       "        vertical-align: middle;\n",
       "    }\n",
       "\n",
       "    .dataframe tbody tr th {\n",
       "        vertical-align: top;\n",
       "    }\n",
       "\n",
       "    .dataframe thead th {\n",
       "        text-align: right;\n",
       "    }\n",
       "</style>\n",
       "<table border=\"1\" class=\"dataframe\">\n",
       "  <thead>\n",
       "    <tr style=\"text-align: right;\">\n",
       "      <th></th>\n",
       "      <th>STUDENT</th>\n",
       "      <th>JOURNAL_TITLE</th>\n",
       "      <th>PUBLICATION_TITLE</th>\n",
       "      <th>PUBLICATION_DOI</th>\n",
       "      <th>CITED_BY_STATE</th>\n",
       "      <th>CITED_BY_COUNTRY</th>\n",
       "      <th>CITED_BY_TITLE</th>\n",
       "      <th>CITED_BY_LINK</th>\n",
       "      <th>Unnamed: 8</th>\n",
       "      <th>Unnamed: 9</th>\n",
       "      <th>Unnamed: 10</th>\n",
       "      <th>Unnamed: 11</th>\n",
       "      <th>Unnamed: 12</th>\n",
       "      <th>Unnamed: 13</th>\n",
       "      <th>Unnamed: 14</th>\n",
       "      <th>Unnamed: 15</th>\n",
       "      <th>Unnamed: 16</th>\n",
       "      <th>Unnamed: 17</th>\n",
       "      <th>Unnamed: 18</th>\n",
       "      <th>Unnamed: 19</th>\n",
       "      <th>Unnamed: 20</th>\n",
       "      <th>Unnamed: 21</th>\n",
       "      <th>Unnamed: 22</th>\n",
       "      <th>Unnamed: 23</th>\n",
       "      <th>Unnamed: 24</th>\n",
       "      <th>Unnamed: 25</th>\n",
       "      <th>Unnamed: 26</th>\n",
       "      <th>Unnamed: 27</th>\n",
       "      <th>Unnamed: 28</th>\n",
       "      <th>Unnamed: 29</th>\n",
       "      <th>Unnamed: 30</th>\n",
       "      <th>Unnamed: 31</th>\n",
       "      <th>STATE_CITING_PAPER</th>\n",
       "      <th>COUNTRY_CITING_PAPER</th>\n",
       "    </tr>\n",
       "  </thead>\n",
       "  <tbody>\n",
       "    <tr>\n",
       "      <th>5</th>\n",
       "      <td>Sousa, John</td>\n",
       "      <td>New England Journal of Medicine</td>\n",
       "      <td>Increasing Incidence of the Neonatal Abstinenc...</td>\n",
       "      <td>10.1056/NEJMsa1500439</td>\n",
       "      <td>Tehran</td>\n",
       "      <td>Iran</td>\n",
       "      <td>Development and validation of the Neonatal Abs...</td>\n",
       "      <td>https://www.tandfonline.com/doi/full/10.1080/1...</td>\n",
       "      <td>NaN</td>\n",
       "      <td>NaN</td>\n",
       "      <td>NaN</td>\n",
       "      <td>NaN</td>\n",
       "      <td>NaN</td>\n",
       "      <td>NaN</td>\n",
       "      <td>NaN</td>\n",
       "      <td>NaN</td>\n",
       "      <td>NaN</td>\n",
       "      <td>NaN</td>\n",
       "      <td>NaN</td>\n",
       "      <td>NaN</td>\n",
       "      <td>NaN</td>\n",
       "      <td>NaN</td>\n",
       "      <td>NaN</td>\n",
       "      <td>NaN</td>\n",
       "      <td>NaN</td>\n",
       "      <td>NaN</td>\n",
       "      <td>NaN</td>\n",
       "      <td>NaN</td>\n",
       "      <td>NaN</td>\n",
       "      <td>NaN</td>\n",
       "      <td>NaN</td>\n",
       "      <td>NaN</td>\n",
       "      <td>Tehran, Development and validation of the Neon...</td>\n",
       "      <td>Iran, Development and validation of the Neonat...</td>\n",
       "    </tr>\n",
       "    <tr>\n",
       "      <th>9</th>\n",
       "      <td>Sousa, John</td>\n",
       "      <td>New England Journal of Medicine</td>\n",
       "      <td>Increasing Incidence of the Neonatal Abstinenc...</td>\n",
       "      <td>10.1056/NEJMsa1500439</td>\n",
       "      <td>Ontario</td>\n",
       "      <td>Canada</td>\n",
       "      <td>Maternal and iatrogenic neonatal opioid withdr...</td>\n",
       "      <td>https://onlinelibrary.wiley.com/doi/epdf/10.10...</td>\n",
       "      <td>NaN</td>\n",
       "      <td>NaN</td>\n",
       "      <td>NaN</td>\n",
       "      <td>NaN</td>\n",
       "      <td>NaN</td>\n",
       "      <td>NaN</td>\n",
       "      <td>NaN</td>\n",
       "      <td>NaN</td>\n",
       "      <td>NaN</td>\n",
       "      <td>NaN</td>\n",
       "      <td>NaN</td>\n",
       "      <td>NaN</td>\n",
       "      <td>NaN</td>\n",
       "      <td>NaN</td>\n",
       "      <td>NaN</td>\n",
       "      <td>NaN</td>\n",
       "      <td>NaN</td>\n",
       "      <td>NaN</td>\n",
       "      <td>NaN</td>\n",
       "      <td>NaN</td>\n",
       "      <td>NaN</td>\n",
       "      <td>NaN</td>\n",
       "      <td>NaN</td>\n",
       "      <td>NaN</td>\n",
       "      <td>Ontario, Maternal and iatrogenic neonatal opio...</td>\n",
       "      <td>Canada, Maternal and iatrogenic neonatal opioi...</td>\n",
       "    </tr>\n",
       "    <tr>\n",
       "      <th>31</th>\n",
       "      <td>Sousa, John</td>\n",
       "      <td>New England Journal of Medicine</td>\n",
       "      <td>Increasing Incidence of the Neonatal Abstinenc...</td>\n",
       "      <td>10.1056/NEJMsa1500439</td>\n",
       "      <td>Saskatchewan</td>\n",
       "      <td>Canada</td>\n",
       "      <td>The iatrogenic opioid crisis: An example of ‘i...</td>\n",
       "      <td>https://onlinelibrary.wiley.com/doi/10.1111/je...</td>\n",
       "      <td>NaN</td>\n",
       "      <td>NaN</td>\n",
       "      <td>NaN</td>\n",
       "      <td>NaN</td>\n",
       "      <td>NaN</td>\n",
       "      <td>NaN</td>\n",
       "      <td>NaN</td>\n",
       "      <td>NaN</td>\n",
       "      <td>NaN</td>\n",
       "      <td>NaN</td>\n",
       "      <td>NaN</td>\n",
       "      <td>NaN</td>\n",
       "      <td>NaN</td>\n",
       "      <td>NaN</td>\n",
       "      <td>NaN</td>\n",
       "      <td>NaN</td>\n",
       "      <td>NaN</td>\n",
       "      <td>NaN</td>\n",
       "      <td>NaN</td>\n",
       "      <td>NaN</td>\n",
       "      <td>NaN</td>\n",
       "      <td>NaN</td>\n",
       "      <td>NaN</td>\n",
       "      <td>NaN</td>\n",
       "      <td>Saskatchewan, The iatrogenic opioid crisis: An...</td>\n",
       "      <td>Canada, The iatrogenic opioid crisis: An examp...</td>\n",
       "    </tr>\n",
       "    <tr>\n",
       "      <th>33</th>\n",
       "      <td>Sousa, John</td>\n",
       "      <td>New England Journal of Medicine</td>\n",
       "      <td>Increasing Incidence of the Neonatal Abstinenc...</td>\n",
       "      <td>10.1056/NEJMsa1500439</td>\n",
       "      <td>Nottingham</td>\n",
       "      <td>United Kingdom</td>\n",
       "      <td>The iatrogenic opioid crisis: An example of ‘i...</td>\n",
       "      <td>https://onlinelibrary.wiley.com/doi/10.1111/je...</td>\n",
       "      <td>NaN</td>\n",
       "      <td>NaN</td>\n",
       "      <td>NaN</td>\n",
       "      <td>NaN</td>\n",
       "      <td>NaN</td>\n",
       "      <td>NaN</td>\n",
       "      <td>NaN</td>\n",
       "      <td>NaN</td>\n",
       "      <td>NaN</td>\n",
       "      <td>NaN</td>\n",
       "      <td>NaN</td>\n",
       "      <td>NaN</td>\n",
       "      <td>NaN</td>\n",
       "      <td>NaN</td>\n",
       "      <td>NaN</td>\n",
       "      <td>NaN</td>\n",
       "      <td>NaN</td>\n",
       "      <td>NaN</td>\n",
       "      <td>NaN</td>\n",
       "      <td>NaN</td>\n",
       "      <td>NaN</td>\n",
       "      <td>NaN</td>\n",
       "      <td>NaN</td>\n",
       "      <td>NaN</td>\n",
       "      <td>Nottingham, The iatrogenic opioid crisis: An e...</td>\n",
       "      <td>United Kingdom, The iatrogenic opioid crisis: ...</td>\n",
       "    </tr>\n",
       "    <tr>\n",
       "      <th>36</th>\n",
       "      <td>Sousa, John</td>\n",
       "      <td>New England Journal of Medicine</td>\n",
       "      <td>Increasing Incidence of the Neonatal Abstinenc...</td>\n",
       "      <td>10.1056/NEJMsa1500439</td>\n",
       "      <td>London</td>\n",
       "      <td>United Kingdom</td>\n",
       "      <td>Cost of neonatal abstinence syndrome: an econo...</td>\n",
       "      <td>https://fn.bmj.com/content/106/5/494</td>\n",
       "      <td>NaN</td>\n",
       "      <td>NaN</td>\n",
       "      <td>NaN</td>\n",
       "      <td>NaN</td>\n",
       "      <td>NaN</td>\n",
       "      <td>NaN</td>\n",
       "      <td>NaN</td>\n",
       "      <td>NaN</td>\n",
       "      <td>NaN</td>\n",
       "      <td>NaN</td>\n",
       "      <td>NaN</td>\n",
       "      <td>NaN</td>\n",
       "      <td>NaN</td>\n",
       "      <td>NaN</td>\n",
       "      <td>NaN</td>\n",
       "      <td>NaN</td>\n",
       "      <td>NaN</td>\n",
       "      <td>NaN</td>\n",
       "      <td>NaN</td>\n",
       "      <td>NaN</td>\n",
       "      <td>NaN</td>\n",
       "      <td>NaN</td>\n",
       "      <td>NaN</td>\n",
       "      <td>NaN</td>\n",
       "      <td>London , Cost of neonatal abstinence syndrome:...</td>\n",
       "      <td>United Kingdom, Cost of neonatal abstinence sy...</td>\n",
       "    </tr>\n",
       "  </tbody>\n",
       "</table>\n",
       "</div>"
      ],
      "text/plain": [
       "        STUDENT  ...                               COUNTRY_CITING_PAPER\n",
       "5   Sousa, John  ...  Iran, Development and validation of the Neonat...\n",
       "9   Sousa, John  ...  Canada, Maternal and iatrogenic neonatal opioi...\n",
       "31  Sousa, John  ...  Canada, The iatrogenic opioid crisis: An examp...\n",
       "33  Sousa, John  ...  United Kingdom, The iatrogenic opioid crisis: ...\n",
       "36  Sousa, John  ...  United Kingdom, Cost of neonatal abstinence sy...\n",
       "\n",
       "[5 rows x 34 columns]"
      ]
     },
     "execution_count": 6,
     "metadata": {},
     "output_type": "execute_result"
    }
   ],
   "source": [
    "# Combine results of data wrangling\n",
    "df = pd.concat([world_df, usa_df])\n",
    "\n",
    "print(f'{df.shape[0]} rows by {df.shape[1]} columns')\n",
    "df.head()"
   ]
  },
  {
   "cell_type": "markdown",
   "metadata": {},
   "source": [
    "### Tracker of Student Publications Included in this Analysis"
   ]
  },
  {
   "cell_type": "code",
   "execution_count": 7,
   "metadata": {},
   "outputs": [
    {
     "name": "stdout",
     "output_type": "stream",
     "text": [
      "0                                 10.1056/NEJMsa1500439\n",
      "1                                  10.1642/AUK-17-216.1\n",
      "2                            10.1038/s41598-018-29605-1\n",
      "3                             10.1007/978-3-319-96634-2\n",
      "4            https://doi.org/10.1016/j.bspc.2020.102249\n",
      "5                             10.18632/oncotarget.15174\n",
      "6      https://doi.org/10.1016/j.neuropharm.2017.09.020\n",
      "7                       10.1016/j.expneurol.2018.12.001\n",
      "8                                        PMID: 30794362\n",
      "9              https://doi.org/10.1189/jlb.3A0214-114RR\n",
      "10                https://doi.org/10.3892/ijo.2017.4144\n",
      "11            https://doi.org/10.1007/s12033-013-9717-x\n",
      "12             https://doi.org/10.1021/acs.jcim.9b01212\n",
      "13            https://doi.org/10.1038/s41386-018-0301-8\n",
      "14           https://doi.org/10.1103/PhysRevC.92.014624\n",
      "15        https://doi.org/10.1080/01677063.2018.1500571\n",
      "16         https://doi.org/10.1021/acschemneuro.8b00577\n",
      "17            https://doi.org/10.1016/j.cca.2019.10.025\n",
      "18                               10.1055/s-0034-1378790\n",
      "19             https://doi.org/10.3389/fnana.2019.00088\n",
      "20                   https://doi.org/10.1111/andr.12441\n",
      "21                                   10.1039/C8AN02521E\n",
      "22                            10.1016/j.snb.2018.11.036\n",
      "23                            10.1007/s10278-017-0026-y\n",
      "24    https://journals.flvc.org/faurj/article/view/1...\n",
      "25                                        10.3791/53165\n",
      "26           https://doi.org/10.1007/s11701-020-01149-5\n",
      "27                         10.1109/BigData.2018.8622451\n",
      "28                       10.1109/EMBC44109.2020.9175955\n",
      "29           https://doi.org/10.1007/s10725-020-00642-z\n",
      "30           https://doi.org/10.1016/j.jcou.2021.101712\n",
      "31              https://doi.org/10.1145/3233547.3233596\n",
      "32                    https://doi.org/10.3390/s21134324\n",
      "33             https://doi.org/10.1109/AIM.2018.8452709\n",
      "34           https://doi.org/10.1038/s41598-021-87015-2\n",
      "35    https://upcommons.upc.edu/bitstream/handle/211...\n",
      "36    https://doi.org/10.1001/jamanetworkopen.2020.1...\n",
      "37                   https://doi.org/10.1038/jp.2016.99\n",
      "38         https://doi.org/10.1007/978-3-030-01177-2_27\n",
      "39         https://doi.org/10.1080/22243682.2014.971134\n",
      "40    https://journals.flvc.org/faurj/article/view/8...\n",
      "41                        10.14423/SMJ.0000000000001074\n",
      "42           https://doi.org/10.1016/j.jaad.2021.07.073\n",
      "43           https://doi.org/10.1007/s10611-021-09958-x\n",
      "44                       10.1109/ICNP52444.2021.9651979\n",
      "45        https://doi.org/10.1080/08974454.2019.1686450\n",
      "Name: DOI, dtype: object\n"
     ]
    }
   ],
   "source": [
    "# Track which student publications are included in this analysis\n",
    "tracker = pd.Series(df['PUBLICATION_DOI'].unique(), name='DOI')\n",
    "print(tracker)\n",
    "\n",
    "_ = tracker.to_excel(f'{path}/outputs/student_publication_tracker.xlsx')"
   ]
  },
  {
   "cell_type": "markdown",
   "metadata": {},
   "source": [
    "### Student Publications Cited by States in the USA"
   ]
  },
  {
   "cell_type": "code",
   "execution_count": 8,
   "metadata": {},
   "outputs": [
    {
     "name": "stdout",
     "output_type": "stream",
     "text": [
      "CITED_BY_STATE\n",
      "Alabama               4\n",
      "Arizona               8\n",
      "Arkansas              4\n",
      "California           41\n",
      "Colorado             16\n",
      "Connecticut          13\n",
      "Delaware              4\n",
      "Florida             111\n",
      "Georgia              13\n",
      "Hawaii                4\n",
      "Illinois             21\n",
      "Indiana              15\n",
      "Iowa                  5\n",
      "Kansas                2\n",
      "Kentucky             17\n",
      "Louisiana             2\n",
      "Maine                 4\n",
      "Maryland             31\n",
      "Massachusetts        59\n",
      "Michigan             10\n",
      "Minnesota            13\n",
      "Mississippi           3\n",
      "Missouri             12\n",
      "Montana               1\n",
      "Nebraska              3\n",
      "Nevada                2\n",
      "New Hampshire         8\n",
      "New Jersey            6\n",
      "New Mexico            4\n",
      "New York             41\n",
      "North Carolina       25\n",
      "North Dakota          6\n",
      "Ohio                 47\n",
      "Oklahoma              3\n",
      "Oregon                4\n",
      "Pennsylvania         75\n",
      "Rhode Island          3\n",
      "South Carolina        9\n",
      "South Dakota          1\n",
      "Tennessee            32\n",
      "Texas                42\n",
      "Utah                  9\n",
      "Vermont               9\n",
      "Virginia             16\n",
      "Washington            9\n",
      "Washington, D.C.     13\n",
      "West Virginia         6\n",
      "Wisconsin             4\n",
      "Name: CITED_BY_STATE, dtype: int64\n"
     ]
    }
   ],
   "source": [
    "# Get \"cited by\" count for each unique state in the USA\n",
    "usa_states_aggregation = usa_df.groupby(['CITED_BY_STATE'])['CITED_BY_STATE'].count()\n",
    "print(usa_states_aggregation)\n",
    "\n",
    "# Write output (join table) to file\n",
    "_ = usa_states_aggregation.to_csv(f'{path}/outputs/usa_states_citation_counts.csv',\n",
    "                                  index_label=['PLACE_NAME', 'CITED_BY'])"
   ]
  },
  {
   "cell_type": "markdown",
   "metadata": {
    "id": "U00u8fo8o-B5"
   },
   "source": [
    "### Student Publications Cited by World Countries"
   ]
  },
  {
   "cell_type": "code",
   "execution_count": 9,
   "metadata": {},
   "outputs": [
    {
     "name": "stdout",
     "output_type": "stream",
     "text": [
      "CITED_BY_COUNTRY\n",
      "Argentina          3\n",
      "Australia         31\n",
      "Austria            5\n",
      "Bangladesh         4\n",
      "Belgium           11\n",
      "                ... \n",
      "United States    790\n",
      "Uruguay            1\n",
      "Venezuela          2\n",
      "Vietnam            1\n",
      "Yemen              1\n",
      "Name: CITED_BY_COUNTRY, Length: 78, dtype: int64\n"
     ]
    }
   ],
   "source": [
    "# Get \"cited by\" count for each unique country\n",
    "countries_aggregation = df.groupby(['CITED_BY_COUNTRY'])['CITED_BY_COUNTRY'].count()\n",
    "print(countries_aggregation)\n",
    "\n",
    "# Write output (join table) to file\n",
    "_ = countries_aggregation.to_csv(f'{path}/outputs/countries_citation_counts.csv',\n",
    "                                 index_label=['PLACE_NAME', 'CITED_BY'])"
   ]
  },
  {
   "cell_type": "markdown",
   "metadata": {},
   "source": [
    "### Associate \"Cited by\" Counts with Geographic Features"
   ]
  },
  {
   "cell_type": "code",
   "execution_count": 10,
   "metadata": {},
   "outputs": [],
   "source": [
    "# Copy USA state polygons to a new feature class\n",
    "usa_states_geom = arcpy.management.CopyFeatures('usa_states_generalized', 'usa_states_geom')\n",
    "\n",
    "# Copy country polygons to a new feature class\n",
    "countries_geom = arcpy.management.CopyFeatures('world_countries_generalized', 'countries_geom')"
   ]
  },
  {
   "cell_type": "code",
   "execution_count": 11,
   "metadata": {},
   "outputs": [],
   "source": [
    "# Join the \"cited by\" counts to USA state polygons\n",
    "_ = arcpy.management.JoinField(usa_states_geom, 'STATE_NAME',\n",
    "                               f'{path}/outputs/usa_states_citation_counts.csv', 'PLACE_NAME')\n",
    "\n",
    "# Join the \"cited by\" counts to country polygons\n",
    "_ = arcpy.management.JoinField(countries_geom, 'COUNTRY',\n",
    "                               f'{path}/outputs/countries_citation_counts.csv', 'PLACE_NAME')"
   ]
  },
  {
   "cell_type": "code",
   "execution_count": 12,
   "metadata": {},
   "outputs": [],
   "source": [
    "# Combine USA states and world countries into a single dataset\n",
    "geography_of_citations = arcpy.management.Merge([usa_states_geom, countries_geom],\n",
    "                                                'geography_of_citations')"
   ]
  },
  {
   "cell_type": "markdown",
   "metadata": {},
   "source": [
    "### Formatting for Map Products"
   ]
  },
  {
   "cell_type": "code",
   "execution_count": 13,
   "metadata": {},
   "outputs": [],
   "source": [
    "# Consolidate the names of states and countries into a single field\n",
    "_ = arcpy.management.CalculateField(geography_of_citations, 'PLACE_NAME',\n",
    "                                    '!STATE_NAME! if !PLACE_NAME! is None else !PLACE_NAME!')\n",
    "\n",
    "_ = arcpy.management.CalculateField(geography_of_citations, 'PLACE_NAME',\n",
    "                                    '!COUNTRY! if !PLACE_NAME! is None else !PLACE_NAME!')\n",
    "\n",
    "# Replace null \"cited by\" values with zeros\n",
    "_ = arcpy.management.CalculateField(geography_of_citations, 'CITED_BY',\n",
    "                                    '0 if !CITED_BY! is None else !CITED_BY!')"
   ]
  },
  {
   "cell_type": "code",
   "execution_count": 14,
   "metadata": {},
   "outputs": [],
   "source": [
    "# Get list of fields to be dropped (Only nonrequired fields may be deleted)\n",
    "drop_fields = [field.name for field in arcpy.ListFields(geography_of_citations)\n",
    "               if not field.required and field.name not in ['PLACE_NAME', 'CITED_BY']]\n",
    "\n",
    "# Delete unnecessary fields for better web map formatting\n",
    "_ = arcpy.management.DeleteField(geography_of_citations, drop_fields)"
   ]
  }
 ],
 "metadata": {
  "colab": {
   "name": "citations_countries_20220418.ipynb",
   "provenance": []
  },
  "kernelspec": {
   "display_name": "ArcGISPro",
   "language": "Python",
   "name": "python3"
  },
  "language_info": {
   "file_extension": ".py",
   "name": "python",
   "version": "3"
  }
 },
 "nbformat": 4,
 "nbformat_minor": 1
}
